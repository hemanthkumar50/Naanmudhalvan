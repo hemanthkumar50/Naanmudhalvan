{
 "cells": [
  {
   "cell_type": "code",
   "execution_count": 1,
   "id": "42a88cec",
   "metadata": {},
   "outputs": [
    {
     "name": "stdout",
     "output_type": "stream",
     "text": [
      "id                                       0\n",
      "Date                                     0\n",
      "number of bedrooms                       0\n",
      "number of bathrooms                      0\n",
      "living area                              0\n",
      "lot area                                 0\n",
      "number of floors                         0\n",
      "waterfront present                       0\n",
      "number of views                          0\n",
      "condition of the house                   0\n",
      "grade of the house                       0\n",
      "Area of the house(excluding basement)    0\n",
      "Area of the basement                     0\n",
      "Built Year                               0\n",
      "Renovation Year                          0\n",
      "Postal Code                              0\n",
      "Lattitude                                0\n",
      "Longitude                                0\n",
      "living_area_renov                        0\n",
      "lot_area_renov                           0\n",
      "Number of schools nearby                 0\n",
      "Distance from the airport                0\n",
      "Price                                    0\n",
      "dtype: int64\n"
     ]
    }
   ],
   "source": [
    "import pandas as pd\n",
    "\n",
    "# Load the dataset\n",
    "df = pd.read_csv(\"House Price India.csv\")\n",
    "\n",
    "# Check for missing values\n",
    "print(df.isnull().sum())\n",
    "\n",
    "# Replace missing values with mean\n",
    "df.fillna(df.mean(), inplace=True)\n",
    "\n",
    "# Drop rows with missing values\n",
    "df.dropna(inplace=True)\n"
   ]
  },
  {
   "cell_type": "code",
   "execution_count": null,
   "id": "62ad9376",
   "metadata": {},
   "outputs": [],
   "source": []
  }
 ],
 "metadata": {
  "kernelspec": {
   "display_name": "Python 3 (ipykernel)",
   "language": "python",
   "name": "python3"
  },
  "language_info": {
   "codemirror_mode": {
    "name": "ipython",
    "version": 3
   },
   "file_extension": ".py",
   "mimetype": "text/x-python",
   "name": "python",
   "nbconvert_exporter": "python",
   "pygments_lexer": "ipython3",
   "version": "3.9.12"
  }
 },
 "nbformat": 4,
 "nbformat_minor": 5
}
